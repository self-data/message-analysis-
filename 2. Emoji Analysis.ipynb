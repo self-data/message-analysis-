{
 "cells": [
  {
   "attachments": {},
   "cell_type": "markdown",
   "metadata": {},
   "source": [
    "# ANALYZING EMOJIS from text message history, with iMazing and Python\n",
    "\n"
   ]
  },
  {
   "cell_type": "markdown",
   "metadata": {},
   "source": [
    "## Preliminary"
   ]
  },
  {
   "cell_type": "code",
   "execution_count": 3,
   "metadata": {},
   "outputs": [],
   "source": [
    "import collections\n",
    "\n",
    "# Let's first import the imazing_helper module\n",
    "# (because it is not installed, but just a floating file in this folder\n",
    "# we may need to help Python find it, by adding the local directory to\n",
    "# the PYTHONPATH)\n",
    "\n",
    "import os, sys\n",
    "sys.path.append(os.path.abspath(\"./\"))\n",
    "\n",
    "import imazing_helper as imzh"
   ]
  },
  {
   "cell_type": "code",
   "execution_count": 11,
   "metadata": {},
   "outputs": [],
   "source": [
    "# We are going to use the emoji module to identify emoji characters\n",
    "import emoji"
   ]
  },
  {
   "cell_type": "markdown",
   "metadata": {},
   "source": [
    "## Custom settings"
   ]
  },
  {
   "cell_type": "code",
   "execution_count": 3,
   "metadata": {},
   "outputs": [],
   "source": [
    "OUTPUT_CAPTION = \"example\"\n",
    "\n",
    "COLOR_SENT = (0.427, 0.694, 0.329)               # beautiful green\n",
    "COLOR_RECEIVED = (0.557, 0.165, 1.0)             # royal purple\n",
    "CUSTOM_COLORS=[COLOR_RECEIVED, COLOR_SENT]"
   ]
  },
  {
   "attachments": {},
   "cell_type": "markdown",
   "metadata": {},
   "source": [
    "## Importing the text message data\n",
    "First, you must export the text messages from your phone to a CSV file. Instructions on how to do this with iMazing are available on the repository. Once this is done, you can import the text messages in this notebook using the `imazing_helper` module you just imported above."
   ]
  },
  {
   "cell_type": "code",
   "execution_count": 26,
   "metadata": {},
   "outputs": [
    {
     "data": {
      "text/plain": [
       "OrderedDict([('timestamp', datetime.datetime(2018, 10, 23, 19, 53, 40)),\n",
       "             ('inbound', False),\n",
       "             ('length', 53),\n",
       "             ('content',\n",
       "              'Sympa !! Démarrer la journée dans la NYC atmosphère !')])"
      ]
     },
     "execution_count": 26,
     "metadata": {},
     "output_type": "execute_result"
    }
   ],
   "source": [
    "records = imzh.load_csv(filepath=\"text_messages.csv\", keep_type=False, no_dataframe=True)\n",
    "records[4]"
   ]
  },
  {
   "attachments": {},
   "cell_type": "markdown",
   "metadata": {},
   "source": [
    "#"
   ]
  },
  {
   "attachments": {},
   "cell_type": "markdown",
   "metadata": {},
   "source": [
    "# First version: Just visualizing emojis"
   ]
  },
  {
   "cell_type": "code",
   "execution_count": 27,
   "metadata": {},
   "outputs": [],
   "source": [
    "# Let's keep track of all the emojis we find\n",
    "all_emojis = []\n",
    "\n",
    "# Going through each text message one by one\n",
    "for record in records:\n",
    "    # we have four fields:\n",
    "    # \"timestamp\", \"inbound\", \"length\", \"content\"\n",
    "\n",
    "    # We use the emoji.emoji_list() function to get a list of all the\n",
    "    # emojis in the text message\n",
    "    list_of_emojis = map(\n",
    "        lambda emoji_record: emoji_record[\"emoji\"],\n",
    "        emoji.emoji_list(record[\"content\"])\n",
    "    )\n",
    "    all_emojis.extend(list_of_emojis)"
   ]
  },
  {
   "cell_type": "code",
   "execution_count": 28,
   "metadata": {},
   "outputs": [
    {
     "name": "stdout",
     "output_type": "stream",
     "text": [
      "😘 (259)\n",
      "❤️ (210)\n",
      "🤗 (77)\n",
      "🎉 (45)\n",
      "🥰 (44)\n",
      "😇 (38)\n",
      "😉 (29)\n",
      "🤩 (24)\n",
      "👌🏻 (19)\n",
      "😊 (19)\n",
      "😢 (18)\n",
      "🤯 (15)\n",
      "🤣 (15)\n",
      "💯 (15)\n",
      "🌞 (14)\n",
      "😍 (14)\n",
      "☀️ (14)\n",
      "🥳 (13)\n",
      "😭 (12)\n",
      "🎶 (11)\n",
      "🙃 (11)\n",
      "🙌🏻 (10)\n",
      "👏 (10)\n",
      "🍀 (9)\n",
      "😓 (7)\n",
      "🕺🏻 (7)\n",
      "😋 (6)\n",
      "😄 (6)\n",
      "🙏🏻 (6)\n",
      "👏🏻 (6)\n",
      "😳 (6)\n",
      "😁 (6)\n",
      "😴 (5)\n",
      "😞 (5)\n",
      "🎵 (5)\n",
      "🤪 (5)\n",
      "☺️ (5)\n",
      "😥 (5)\n",
      "🎹 (4)\n",
      "😱 (4)\n",
      "😕 (3)\n",
      "😎 (3)\n",
      "😮 (3)\n",
      "😖 (3)\n",
      "👍🏻 (3)\n",
      "🌈 (3)\n",
      "💔 (3)\n",
      "⭐ (3)\n",
      "😃 (2)\n",
      "🥂 (2)\n",
      "🙁 (2)\n",
      "🧐 (2)\n",
      "😨 (2)\n",
      "😔 (2)\n",
      "🤨 (2)\n",
      "😟 (2)\n",
      "👓 (1)\n",
      "🎆 (1)\n",
      "🤸🏿‍♂️ (1)\n",
      "😏 (1)\n",
      "🤭 (1)\n",
      "🤞 (1)\n",
      "🔥 (1)\n",
      "🥕 (1)\n",
      "🥦 (1)\n",
      "🍳 (1)\n",
      "🎈 (1)\n",
      "🎊 (1)\n",
      "🤸 (1)\n",
      "💃🏻 (1)\n",
      "😠 (1)\n",
      "😀 (1)\n",
      "👍 (1)\n",
      "👎 (1)\n",
      "😆 (1)\n",
      "🐰 (1)\n",
      "🍁 (1)\n",
      "🤔 (1)\n",
      "🙂 (1)\n",
      "👿 (1)\n",
      "😡 (1)\n",
      "🤬 (1)\n",
      "🌊 (1)\n",
      "👌 (1)\n",
      "🥲 (1)\n",
      "👆 (1)\n",
      "🍾 (1)\n",
      "❣️ (1)\n",
      "🥱 (1)\n",
      "✅ (1)\n",
      "💉 (1)\n",
      "🤒 (1)\n",
      "🥶 (1)\n",
      "\n"
     ]
    }
   ],
   "source": [
    "# We use the collections.Counter() function to count the number of times each emoji appears\n",
    "emoji_histogram = sorted(collections.Counter(all_emojis).items(), key=lambda record: record[1], reverse=True)\n",
    "\n",
    "# This is the visualization that we are computing\n",
    "emoji_visualization = \"\"\n",
    "\n",
    "# Visualization options\n",
    "separate_by_line = True  # if True, each emoji will be on a separate line\n",
    "repeat_emoji = False     # if True, each emoji will be repeated as many times as it appears\n",
    "\n",
    "# Generate the \"histogram\"\n",
    "for (emoji_string, frequency) in emoji_histogram:\n",
    "    if repeat_emoji:\n",
    "        emoji_visualization += emoji_string * frequency\n",
    "        \n",
    "        if separate_by_line:\n",
    "            emoji_visualization += \"\\n\"\n",
    "\n",
    "    else:\n",
    "        emoji_visualization += f\"{emoji_string} ({frequency})\\n\"\n",
    "\n",
    "print(emoji_visualization)"
   ]
  },
  {
   "attachments": {},
   "cell_type": "markdown",
   "metadata": {},
   "source": [
    "# Second version: Visualizing emojis with who sent them"
   ]
  },
  {
   "cell_type": "code",
   "execution_count": 29,
   "metadata": {},
   "outputs": [],
   "source": [
    "# Let's keep track of all the emojis we find\n",
    "# => this time, we separate by received vs sent\n",
    "all_emojis_received = []\n",
    "all_emojis_sent = []\n",
    "\n",
    "# Going through each text message one by one\n",
    "for record in records:\n",
    "    # we have four fields:\n",
    "    # \"timestamp\", \"inbound\", \"length\", \"content\"\n",
    "\n",
    "    # We use the emoji.emoji_list() function to get a list of all the\n",
    "    # emojis in the text message\n",
    "    list_of_emojis = map(\n",
    "        lambda emoji_record: emoji_record[\"emoji\"],\n",
    "        emoji.emoji_list(record[\"content\"])\n",
    "    )\n",
    "\n",
    "    # => this time, we separate by received vs sent\n",
    "    if record[\"inbound\"]:\n",
    "        all_emojis_received.extend(list_of_emojis)\n",
    "    \n",
    "    else:\n",
    "        all_emojis_sent.extend(list_of_emojis)"
   ]
  },
  {
   "cell_type": "code",
   "execution_count": 38,
   "metadata": {},
   "outputs": [
    {
     "name": "stdout",
     "output_type": "stream",
     "text": [
      "😘 (259): [RECV 18.92%] [SENT 81.08%]\n",
      "❤️ (210): [RECV 9.05%] [SENT 90.95%]\n",
      "🤗 (77): [RECV 22.08%] [SENT 77.92%]\n",
      "🎉 (45): [RECV 8.89%] [SENT 91.11%]\n",
      "🥰 (44): [RECV 38.64%] [SENT 61.36%]\n",
      "😇 (38): [RECV 2.63%] [SENT 97.37%]\n",
      "😉 (29): [RECV 86.21%] [SENT 13.79%]\n",
      "🤩 (24): [RECV 8.33%] [SENT 91.67%]\n",
      "😊 (19): [RECV 42.11%] [SENT 57.89%]\n",
      "👌🏻 (19): [RECV 0.00%] [SENT 100.00%]\n",
      "😢 (18): [RECV 77.78%] [SENT 22.22%]\n",
      "🤯 (15): [RECV 0.00%] [SENT 100.00%]\n",
      "🤣 (15): [RECV 0.00%] [SENT 100.00%]\n",
      "💯 (15): [RECV 0.00%] [SENT 100.00%]\n",
      "☀️ (14): [RECV 7.14%] [SENT 92.86%]\n",
      "😍 (14): [RECV 50.00%] [SENT 50.00%]\n",
      "🌞 (14): [RECV 0.00%] [SENT 100.00%]\n",
      "🥳 (13): [RECV 0.00%] [SENT 100.00%]\n",
      "😭 (12): [RECV 0.00%] [SENT 100.00%]\n",
      "🙃 (11): [RECV 54.55%] [SENT 45.45%]\n",
      "🎶 (11): [RECV 0.00%] [SENT 100.00%]\n",
      "🙌🏻 (10): [RECV 0.00%] [SENT 100.00%]\n",
      "👏 (10): [RECV 0.00%] [SENT 100.00%]\n",
      "🍀 (9): [RECV 100.00%] [SENT 0.00%]\n",
      "😓 (7): [RECV 85.71%] [SENT 14.29%]\n",
      "🕺🏻 (7): [RECV 0.00%] [SENT 100.00%]\n",
      "😋 (6): [RECV 33.33%] [SENT 66.67%]\n",
      "😳 (6): [RECV 33.33%] [SENT 66.67%]\n",
      "😄 (6): [RECV 0.00%] [SENT 100.00%]\n",
      "🙏🏻 (6): [RECV 0.00%] [SENT 100.00%]\n",
      "👏🏻 (6): [RECV 0.00%] [SENT 100.00%]\n",
      "😁 (6): [RECV 0.00%] [SENT 100.00%]\n",
      "😴 (5): [RECV 100.00%] [SENT 0.00%]\n",
      "😞 (5): [RECV 60.00%] [SENT 40.00%]\n",
      "😥 (5): [RECV 100.00%] [SENT 0.00%]\n",
      "☺️ (5): [RECV 60.00%] [SENT 40.00%]\n",
      "🎵 (5): [RECV 0.00%] [SENT 100.00%]\n",
      "🤪 (5): [RECV 0.00%] [SENT 100.00%]\n",
      "😱 (4): [RECV 100.00%] [SENT 0.00%]\n",
      "🎹 (4): [RECV 0.00%] [SENT 100.00%]\n",
      "😕 (3): [RECV 100.00%] [SENT 0.00%]\n",
      "👍🏻 (3): [RECV 66.67%] [SENT 33.33%]\n",
      "💔 (3): [RECV 100.00%] [SENT 0.00%]\n",
      "⭐ (3): [RECV 33.33%] [SENT 66.67%]\n",
      "😎 (3): [RECV 0.00%] [SENT 100.00%]\n",
      "😮 (3): [RECV 0.00%] [SENT 100.00%]\n",
      "😖 (3): [RECV 0.00%] [SENT 100.00%]\n",
      "🌈 (3): [RECV 0.00%] [SENT 100.00%]\n",
      "🥂 (2): [RECV 100.00%] [SENT 0.00%]\n",
      "🙁 (2): [RECV 100.00%] [SENT 0.00%]\n",
      "🧐 (2): [RECV 50.00%] [SENT 50.00%]\n",
      "😨 (2): [RECV 100.00%] [SENT 0.00%]\n",
      "🤨 (2): [RECV 100.00%] [SENT 0.00%]\n",
      "😟 (2): [RECV 100.00%] [SENT 0.00%]\n",
      "😃 (2): [RECV 0.00%] [SENT 100.00%]\n",
      "😔 (2): [RECV 0.00%] [SENT 100.00%]\n",
      "👓 (1): [RECV 100.00%] [SENT 0.00%]\n",
      "😏 (1): [RECV 100.00%] [SENT 0.00%]\n",
      "🤭 (1): [RECV 100.00%] [SENT 0.00%]\n",
      "🤞 (1): [RECV 100.00%] [SENT 0.00%]\n",
      "🥕 (1): [RECV 100.00%] [SENT 0.00%]\n",
      "🥦 (1): [RECV 100.00%] [SENT 0.00%]\n",
      "🍳 (1): [RECV 100.00%] [SENT 0.00%]\n",
      "🎈 (1): [RECV 100.00%] [SENT 0.00%]\n",
      "🎊 (1): [RECV 100.00%] [SENT 0.00%]\n",
      "🐰 (1): [RECV 100.00%] [SENT 0.00%]\n",
      "🤔 (1): [RECV 100.00%] [SENT 0.00%]\n",
      "🌊 (1): [RECV 100.00%] [SENT 0.00%]\n",
      "🥲 (1): [RECV 100.00%] [SENT 0.00%]\n",
      "🍾 (1): [RECV 100.00%] [SENT 0.00%]\n",
      "❣️ (1): [RECV 100.00%] [SENT 0.00%]\n",
      "🥱 (1): [RECV 100.00%] [SENT 0.00%]\n",
      "✅ (1): [RECV 100.00%] [SENT 0.00%]\n",
      "🤒 (1): [RECV 100.00%] [SENT 0.00%]\n",
      "🥶 (1): [RECV 100.00%] [SENT 0.00%]\n",
      "🎆 (1): [RECV 0.00%] [SENT 100.00%]\n",
      "🤸🏿‍♂️ (1): [RECV 0.00%] [SENT 100.00%]\n",
      "🔥 (1): [RECV 0.00%] [SENT 100.00%]\n",
      "🤸 (1): [RECV 0.00%] [SENT 100.00%]\n",
      "💃🏻 (1): [RECV 0.00%] [SENT 100.00%]\n",
      "😠 (1): [RECV 0.00%] [SENT 100.00%]\n",
      "😀 (1): [RECV 0.00%] [SENT 100.00%]\n",
      "👍 (1): [RECV 0.00%] [SENT 100.00%]\n",
      "👎 (1): [RECV 0.00%] [SENT 100.00%]\n",
      "😆 (1): [RECV 0.00%] [SENT 100.00%]\n",
      "🍁 (1): [RECV 0.00%] [SENT 100.00%]\n",
      "🙂 (1): [RECV 0.00%] [SENT 100.00%]\n",
      "👿 (1): [RECV 0.00%] [SENT 100.00%]\n",
      "😡 (1): [RECV 0.00%] [SENT 100.00%]\n",
      "🤬 (1): [RECV 0.00%] [SENT 100.00%]\n",
      "👌 (1): [RECV 0.00%] [SENT 100.00%]\n",
      "👆 (1): [RECV 0.00%] [SENT 100.00%]\n",
      "💉 (1): [RECV 0.00%] [SENT 100.00%]\n",
      "\n"
     ]
    }
   ],
   "source": [
    "# We use the collections.Counter() function to count the number of times each emoji appears\n",
    "emoji_histogram = sorted(collections.Counter(all_emojis_received + all_emojis_sent).items(), key=lambda record: record[1], reverse=True)\n",
    "emoji_histogram_received = collections.Counter(all_emojis_received)\n",
    "emoji_histogram_sent = collections.Counter(all_emojis_sent)\n",
    "\n",
    "# This is the visualization that we are computing\n",
    "emoji_visualization = \"\"\n",
    "\n",
    "# Generate the \"histogram\"\n",
    "for (emoji_string, frequency) in emoji_histogram:\n",
    "    frequency_received = emoji_histogram_received.get(emoji_string, 0)\n",
    "    frequency_sent = emoji_histogram_sent.get(emoji_string, 0)\n",
    "    ratio_received = frequency_received / frequency\n",
    "    ratio_sent = frequency_sent / frequency\n",
    "\n",
    "    emoji_visualization += (\n",
    "        f\"{emoji_string} ({frequency}): [RECV {ratio_received:.2%}] [SENT {ratio_sent:.2%}]\\n\"\n",
    "    )\n",
    "\n",
    "print(emoji_visualization)"
   ]
  },
  {
   "cell_type": "code",
   "execution_count": null,
   "metadata": {},
   "outputs": [],
   "source": []
  }
 ],
 "metadata": {
  "kernelspec": {
   "display_name": "text-message-analysis-template-meU13cfK",
   "language": "python",
   "name": "python3"
  },
  "language_info": {
   "codemirror_mode": {
    "name": "ipython",
    "version": 3
   },
   "file_extension": ".py",
   "mimetype": "text/x-python",
   "name": "python",
   "nbconvert_exporter": "python",
   "pygments_lexer": "ipython3",
   "version": "3.10.5 (main, Jul  2 2022, 12:02:23) [Clang 13.1.6 (clang-1316.0.21.2.5)]"
  },
  "vscode": {
   "interpreter": {
    "hash": "b868b1d8bda115fd13b9d16f519e31e3032ce2d2fe18f5a647b0419b0719fe01"
   }
  }
 },
 "nbformat": 4,
 "nbformat_minor": 2
}
